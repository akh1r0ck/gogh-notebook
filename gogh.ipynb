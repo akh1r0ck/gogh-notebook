{
  "nbformat": 4,
  "nbformat_minor": 0,
  "metadata": {
    "colab": {
      "name": "gogh.ipynb",
      "version": "0.3.2",
      "provenance": [],
      "collapsed_sections": [],
      "toc_visible": true,
      "include_colab_link": true
    },
    "kernelspec": {
      "name": "python2",
      "display_name": "Python 2"
    },
    "accelerator": "GPU"
  },
  "cells": [
    {
      "cell_type": "markdown",
      "metadata": {
        "id": "view-in-github",
        "colab_type": "text"
      },
      "source": [
        "[View in Colaboratory](https://colab.research.google.com/github/akh1r0ck/gogh-notebook/blob/master/gogh.ipynb)"
      ]
    },
    {
      "metadata": {
        "id": "8p6pcytaIfb1",
        "colab_type": "text"
      },
      "cell_type": "markdown",
      "source": [
        "#chainer-goghを走らせるNotebook\n",
        "\n",
        "\n",
        "##chainerのインストール"
      ]
    },
    {
      "metadata": {
        "id": "rlDTp4PUnxoB",
        "colab_type": "code",
        "colab": {}
      },
      "cell_type": "code",
      "source": [
        "!ls"
      ],
      "execution_count": 0,
      "outputs": []
    },
    {
      "metadata": {
        "id": "WdkfIUOjHlxu",
        "colab_type": "code",
        "colab": {}
      },
      "cell_type": "code",
      "source": [
        "!apt -y install libcusparse8.0 libnvrtc8.0 libnvtoolsext1\n",
        "!ln -snf /usr/lib/x86_64-linux-gnu/libnvrtc-builtins.so.8.0 /usr/lib/x86_64-linux-gnu/libnvrtc-builtins.so\n",
        "!pip install -q cupy-cuda80 chainer\n",
        "!pip install cupy --no-cache-dir -vvvv"
      ],
      "execution_count": 0,
      "outputs": []
    },
    {
      "metadata": {
        "id": "Hp78yo0DI2tl",
        "colab_type": "text"
      },
      "cell_type": "markdown",
      "source": [
        "##データのアップロード\n",
        "画像，モデル読み込みのための.pyファイルのアップロード\n",
        "\n",
        "```\n",
        " chainer-gogh.py\n",
        " models.py\n",
        " input.png\n",
        " style.png\n",
        " ```\n",
        "\n",
        "をアップロードする"
      ]
    },
    {
      "metadata": {
        "id": "lyCwnGY0IWlt",
        "colab_type": "code",
        "colab": {}
      },
      "cell_type": "code",
      "source": [
        "from google.colab import files\n",
        "uploaded = files.upload()\n",
        "!ls"
      ],
      "execution_count": 0,
      "outputs": []
    },
    {
      "metadata": {
        "id": "l1a7iZukJNSD",
        "colab_type": "code",
        "colab": {}
      },
      "cell_type": "code",
      "source": [
        "!python chainer-gogh.py -m vgg_chainer -i input.png -s style.png -o output_dir -g 0 --width 256\n",
        "!ls"
      ],
      "execution_count": 0,
      "outputs": []
    },
    {
      "metadata": {
        "id": "5Eus0E0Enb8o",
        "colab_type": "code",
        "colab": {}
      },
      "cell_type": "code",
      "source": [
        "from IPython.display import Image,display_png\n",
        "display_png(Image('im_04900.png'))"
      ],
      "execution_count": 0,
      "outputs": []
    },
    {
      "metadata": {
        "id": "ZIxnubsE9jrb",
        "colab_type": "code",
        "colab": {}
      },
      "cell_type": "code",
      "source": [
        "!rm style.png\n",
        "!rm input.png\n",
        "!ls"
      ],
      "execution_count": 0,
      "outputs": []
    },
    {
      "metadata": {
        "id": "7xCW8jPK29bn",
        "colab_type": "code",
        "colab": {}
      },
      "cell_type": "code",
      "source": [
        "!ls"
      ],
      "execution_count": 0,
      "outputs": []
    },
    {
      "metadata": {
        "id": "0dp1zcpU3AD-",
        "colab_type": "code",
        "colab": {}
      },
      "cell_type": "code",
      "source": [
        ""
      ],
      "execution_count": 0,
      "outputs": []
    }
  ]
}